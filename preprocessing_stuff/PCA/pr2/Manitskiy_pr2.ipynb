{
  "nbformat": 4,
  "nbformat_minor": 0,
  "metadata": {
    "colab": {
      "provenance": []
    },
    "kernelspec": {
      "name": "python3",
      "display_name": "Python 3"
    },
    "language_info": {
      "name": "python"
    }
  },
  "cells": [
    {
      "cell_type": "code",
      "execution_count": 27,
      "metadata": {
        "colab": {
          "base_uri": "https://localhost:8080/"
        },
        "id": "UQw3agIsiKtf",
        "outputId": "3fe4f491-6674-4577-8f35-8324a07db0a0"
      },
      "outputs": [
        {
          "output_type": "stream",
          "name": "stdout",
          "text": [
            "\n",
            "------Досягнуте значення помилки-----\n",
            "[[ 0.20831377 -0.16884511]\n",
            " [-0.21575355  0.1748753 ]\n",
            " [ 0.00743978 -0.00603018]]\n",
            "\n",
            "[[-0.04974966  0.06908244  0.20659502]\n",
            " [ 0.05152644 -0.07154967 -0.21397341]\n",
            " [-0.00177677  0.00246723  0.00737839]]\n",
            "\n",
            "[[-0.18666667]\n",
            " [ 0.19333333]\n",
            " [-0.00666667]]\n",
            "Порівняння виходів (у) та вихідних данних за результатами навчання (layer_3)\n",
            "[[0.32]\n",
            " [0.7 ]\n",
            " [0.5 ]]\n",
            "[[0.50666667]\n",
            " [0.50666667]\n",
            " [0.50666667]]\n"
          ]
        }
      ],
      "source": [
        "\n",
        "import numpy as np\n",
        "\n",
        "def sigmoid(x):\n",
        "    return 1 / (1 + np.exp(-x))\n",
        "\n",
        "def sigmoid_derivative(x):\n",
        "    return sigmoid(x) * (1 - sigmoid(x))\n",
        "\n",
        "\n",
        "X = np.array([[0.15, 0.54, 0.45],\n",
        "              [0.32, 0.55, 0.7],\n",
        "              [0.15, 0.03, 0.75]])\n",
        "\n",
        "y = np.array([[0.32],\n",
        "              [0.7],\n",
        "              [0.5]])\n",
        "\n",
        "weights_1 = np.random.random((3, 2)) - 0.5\n",
        "weights_2 = np.random.random((2, 3)) - 0.5\n",
        "weights_3 = np.random.random((3, 1)) - 0.5\n",
        "\n",
        "result_error1 = 0;\n",
        "result_error2 = 0;\n",
        "result_error3 = 0;\n",
        "\n",
        "num_iterations = 10000\n",
        "\n",
        "for i in range(num_iterations):\n",
        "\n",
        "    layer_1 = sigmoid(np.dot(X, weights_1))\n",
        "    layer_2 = sigmoid(np.dot(layer_1, weights_2))\n",
        "    layer_3 = sigmoid(np.dot(layer_2, weights_3))\n",
        "\n",
        "\n",
        "    l3_error = y - layer_3\n",
        "    \n",
        "\n",
        "    layer_3_gradient = l3_error * sigmoid_derivative(layer_3)\n",
        "    weights_3 += layer_2.T.dot(layer_3_gradient)\n",
        "\n",
        "    l2_error = layer_3_gradient.dot(weights_3.T)\n",
        "\n",
        "    layer_2_gradient = layer_3_gradient.dot(weights_3.T) * sigmoid_derivative(layer_2)\n",
        "    weights_2 += layer_1.T.dot(layer_2_gradient)\n",
        "\n",
        "    l1_error = layer_2_gradient.dot(weights_2.T)\n",
        "\n",
        "    layer_1_gradient = layer_2_gradient.dot(weights_2.T) * sigmoid_derivative(layer_1)\n",
        "    weights_1 += X.T.dot(layer_1_gradient)\n",
        "\n",
        "    result_error3 = l3_error\n",
        "    result_error2 = l2_error\n",
        "    result_error1 = l1_error\n",
        "    \n",
        "print(\"\")\n",
        "\n",
        "print(\"------Досягнуте значення помилки-----\")\n",
        "\n",
        "print(result_error1)\n",
        "print(\"\")\n",
        "print(result_error2)\n",
        "print(\"\")\n",
        "print(result_error3)\n",
        "\n",
        "print(\"Порівняння виходів (у) та вихідних данних за результатами навчання (layer_3)\")\n",
        "print(y)\n",
        "print(layer_3)"
      ]
    }
  ]
}